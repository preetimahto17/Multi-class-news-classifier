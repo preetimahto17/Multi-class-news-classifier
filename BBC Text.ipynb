{
 "cells": [
  {
   "cell_type": "code",
   "execution_count": 1,
   "metadata": {},
   "outputs": [],
   "source": [
    "import pandas as pd\n",
    "import matplotlib.pyplot as plt\n",
    "import seaborn as sea\n",
    "import numpy as np\n",
    "from sklearn.metrics import classification_report"
   ]
  },
  {
   "cell_type": "code",
   "execution_count": 2,
   "metadata": {},
   "outputs": [
    {
     "name": "stdout",
     "output_type": "stream",
     "text": [
      "(2225, 2)\n"
     ]
    }
   ],
   "source": [
    "data = pd.read_csv(\"bbc-text.csv\")\n",
    "print(data.shape)"
   ]
  },
  {
   "cell_type": "code",
   "execution_count": 3,
   "metadata": {},
   "outputs": [],
   "source": [
    "Y=data.category\n",
    "X=data.text\n",
    "Xtrain=np.array(X[0:1780])\n",
    "Ytrain=np.array(Y[0:1780])\n",
    "Xtest=np.array(X[1780:2225])\n",
    "Ytest=np.array(Y[1780:2225])"
   ]
  },
  {
   "cell_type": "code",
   "execution_count": 4,
   "metadata": {},
   "outputs": [
    {
     "data": {
      "image/png": "[encoded data removed]",
      "text/plain": [
       "<Figure size 800x600 with 1 Axes>"
      ]
     },
     "metadata": {},
     "output_type": "display_data"
    }
   ],
   "source": [
    "import matplotlib.pyplot as plt\n",
    "fig = plt.figure(figsize=(8,6))\n",
    "data.groupby('category').text.count().plot.bar(ylim=0)\n",
    "plt.show()"
   ]
  },
  {
   "cell_type": "code",
   "execution_count": 5,
   "metadata": {},
   "outputs": [
    {
     "data": {
      "text/plain": [
       "(2225, 14415)"
      ]
     },
     "execution_count": 5,
     "metadata": {},
     "output_type": "execute_result"
    }
   ],
   "source": [
    "from sklearn.feature_extraction.text import TfidfVectorizer\n",
    "tfidf = TfidfVectorizer(sublinear_tf=True, min_df=5, norm='l2', encoding='latin-1', ngram_range=(1, 2), stop_words='english')\n",
    "features = tfidf.fit_transform(data.text).toarray()\n",
    "labels = data.category\n",
    "features.shape"
   ]
  },
  {
   "cell_type": "code",
   "execution_count": 6,
   "metadata": {},
   "outputs": [],
   "source": [
    "from sklearn.model_selection import train_test_split\n",
    "from sklearn.feature_extraction.text import CountVectorizer\n",
    "from sklearn.feature_extraction.text import TfidfTransformer\n",
    "from sklearn.naive_bayes import MultinomialNB\n",
    "count_vect = CountVectorizer()\n",
    "X_train_counts = count_vect.fit_transform(Xtrain)\n",
    "tfidf_transformer = TfidfTransformer()\n",
    "X_train_tfidf = tfidf_transformer.fit_transform(X_train_counts)\n",
    "clf = MultinomialNB().fit(X_train_tfidf, Ytrain)"
   ]
  },
  {
   "cell_type": "code",
   "execution_count": 7,
   "metadata": {},
   "outputs": [
    {
     "name": "stdout",
     "output_type": "stream",
     "text": [
      "               precision    recall  f1-score   support\n",
      "\n",
      "     business       0.92      0.96      0.94       106\n",
      "entertainment       1.00      0.65      0.79        66\n",
      "     politics       0.88      0.98      0.93        86\n",
      "        sport       0.90      1.00      0.95       101\n",
      "         tech       0.96      0.94      0.95        86\n",
      "\n",
      "     accuracy                           0.92       445\n",
      "    macro avg       0.93      0.91      0.91       445\n",
      " weighted avg       0.93      0.92      0.92       445\n",
      "\n"
     ]
    }
   ],
   "source": [
    "y=(clf.predict(count_vect.transform(Xtest)))\n",
    "print(classification_report(Ytest, y))"
   ]
  },
  {
   "cell_type": "code",
   "execution_count": 8,
   "metadata": {},
   "outputs": [],
   "source": [
    "#Training model\n",
    "X_train_counts1 = count_vect.fit_transform(X)\n",
    "X_train_tfidf1 = tfidf_transformer.fit_transform(X_train_counts1)\n",
    "mnb= MultinomialNB().fit(X_train_tfidf1, Y)"
   ]
  },
  {
   "cell_type": "code",
   "execution_count": 9,
   "metadata": {},
   "outputs": [],
   "source": [
    "import pickle\n",
    "\n",
    "# Assuming mnb and count_vect are your trained model and vectorizer\n",
    "with open('models/text_classification.pkl', 'wb') as f:\n",
    "    pickle.dump(mnb, f)\n",
    "with open('models/count_vect.pkl', 'wb') as f1:\n",
    "    pickle.dump(count_vect, f1)\n"
   ]
  },
  {
   "cell_type": "code",
   "execution_count": null,
   "metadata": {},
   "outputs": [],
   "source": []
  }
 ],
 "metadata": {
  "kernelspec": {
   "display_name": "Python 3",
   "language": "python",
   "name": "python3"
  },
  "language_info": {
   "codemirror_mode": {
    "name": "ipython",
    "version": 3
   },
   "file_extension": ".py",
   "mimetype": "text/x-python",
   "name": "python",
   "nbconvert_exporter": "python",
   "pygments_lexer": "ipython3",
   "version": "3.12.3"
  }
 },
 "nbformat": 4,
 "nbformat_minor": 2
}
